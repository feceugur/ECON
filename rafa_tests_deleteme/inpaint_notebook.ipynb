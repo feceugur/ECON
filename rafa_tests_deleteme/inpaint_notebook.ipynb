{
 "cells": [
  {
   "cell_type": "code",
   "execution_count": null,
   "metadata": {},
   "outputs": [],
   "source": [
    "import cv2\n",
    "import numpy as np\n",
    "\n",
    "# Load the image and the mask\n",
    "image_path = \"/Users/rafael.redondo/Desktop/texture_map2.png\"  # Replace with your image path\n",
    "mask_path = \"/Users/rafael.redondo/Desktop/diff_mask.png\"    # Replace with your mask path\n",
    "\n",
    "image = cv2.imread(image_path)\n",
    "mask = cv2.imread(mask_path, cv2.IMREAD_GRAYSCALE)\n",
    "\n",
    "if image is None or mask is None:\n",
    "    raise ValueError(\"Error loading image or mask. Check the file paths.\")\n",
    "\n"
   ]
  },
  {
   "cell_type": "code",
   "execution_count": null,
   "metadata": {},
   "outputs": [
    {
     "data": {
      "text/plain": [
       "True"
      ]
     },
     "execution_count": 7,
     "metadata": {},
     "output_type": "execute_result"
    }
   ],
   "source": [
    "\n",
    "# Dilate the mask to expand the unpainted area\n",
    "kernel = np.ones((7, 7), np.uint8)  # Adjust kernel size as needed\n",
    "dilated_mask = cv2.dilate(mask, kernel, iterations=2)\n",
    "cv2.imwrite(\"/Users/rafael.redondo/Desktop/mask_dilated5.png\", dilated_mask)\n"
   ]
  },
  {
   "cell_type": "code",
   "execution_count": 4,
   "metadata": {},
   "outputs": [
    {
     "data": {
      "text/plain": [
       "True"
      ]
     },
     "execution_count": 4,
     "metadata": {},
     "output_type": "execute_result"
    }
   ],
   "source": [
    "# Inpaint the image while keeping the dilated mask area unchanged\n",
    "inpainted_image = cv2.inpaint(image, dilated_mask, inpaintRadius=3, flags=cv2.INPAINT_TELEA)\n",
    "\n",
    "# Display the results\n",
    "# cv2.imshow(\"Inpainted Image\", inpainted_image)\n",
    "# cv2.imshow(\"Original Image\", image)\n",
    "# cv2.imshow(\"Dilated Mask\", mask)\n",
    "# cv2.waitKey(0)\n",
    "# cv2.destroyAllWindows()\n",
    "\n",
    "# Save the results\n",
    "\n",
    "cv2.imwrite(\"/Users/rafael.redondo/Desktop/texture_map2_inpainted_dilated7.png\", inpainted_image)"
   ]
  },
  {
   "cell_type": "code",
   "execution_count": null,
   "metadata": {},
   "outputs": [
    {
     "ename": "",
     "evalue": "",
     "output_type": "error",
     "traceback": [
      "\u001b[1;31mRunning cells with 'econ (Python 3.8.20)' requires the ipykernel package.\n",
      "\u001b[1;31mRun the following command to install 'ipykernel' into the Python environment. \n",
      "\u001b[1;31mCommand: 'conda install -n econ ipykernel --update-deps --force-reinstall'"
     ]
    }
   ],
   "source": [
    "import cv2\n",
    "\n",
    "texture1 = cv2.imread(\"/home/ubuntu/projects/induxr/econ_s/ECON/rafa_tests_deleteme/texdefrag_mesh.obj_optimized_texture_0.png\")\n",
    "texture2 = cv2.imread(\"/home/ubuntu/projects/induxr/econ_s/ECON/rafa_tests_deleteme/texdefrag_mesh.obj_optimized_texture_1.png\")\n",
    "mask = (texture1 - texture2) > 0 \n",
    "mask = int(mask == 'true')"
   ]
  },
  {
   "cell_type": "code",
   "execution_count": null,
   "metadata": {},
   "outputs": [],
   "source": [
    "# Dilate the mask to expand the unpainted area\n",
    "kernel = np.ones((7, 7), np.uint8)  # Adjust kernel size as needed\n",
    "dilated_mask = cv2.dilate(mask, kernel, iterations=1)\n",
    "cv2.imwrite(\"/home/ubuntu/projects/induxr/econ_s/ECON/rafa_tests_deleteme/texdefrag_mesh.obj_optimized_texture_mask.png\", dilated_mask)"
   ]
  },
  {
   "cell_type": "code",
   "execution_count": null,
   "metadata": {},
   "outputs": [],
   "source": [
    "inpainted_texture = cv2.inpaint(image, dilated_mask, inpaintRadius=3, flags=cv2.INPAINT_NS)\n",
    "cv2.imwrite(\"/home/ubuntu/projects/induxr/econ_s/ECON/rafa_tests_deleteme/texdefrag_mesh.obj_optimized_texture_inpaint.png\", inpainted_texture)"
   ]
  }
 ],
 "metadata": {
  "kernelspec": {
   "display_name": "econ",
   "language": "python",
   "name": "python3"
  },
  "language_info": {
   "codemirror_mode": {
    "name": "ipython",
    "version": 3
   },
   "file_extension": ".py",
   "mimetype": "text/x-python",
   "name": "python",
   "nbconvert_exporter": "python",
   "pygments_lexer": "ipython3",
   "version": "3.8.20"
  }
 },
 "nbformat": 4,
 "nbformat_minor": 2
}
